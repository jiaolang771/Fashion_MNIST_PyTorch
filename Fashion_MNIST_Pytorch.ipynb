{
 "cells": [
  {
   "cell_type": "code",
   "execution_count": 1,
   "id": "499ad367",
   "metadata": {},
   "outputs": [],
   "source": [
    "from __future__ import division, print_function, absolute_import\n",
    "\n",
    "import math\n",
    "import time\n",
    "import sys\n",
    "import cv2\n",
    "import os\n",
    "import random\n",
    "import itertools\n",
    "from pathlib import Path\n",
    "import enum\n",
    "import multiprocessing\n",
    "from pathlib import Path\n",
    "\n",
    "import numpy as np\n",
    "from unet import UNet\n",
    "\n",
    "import numpy as np\n",
    "from PIL import Image\n",
    "from os import listdir\n",
    "from os.path import join, basename, isdir\n",
    "from scikitplot.metrics import plot_confusion_matrix, plot_roc\n",
    "from sklearn.metrics import confusion_matrix, accuracy_score, roc_auc_score\n",
    "from sklearn.model_selection import KFold, StratifiedKFold, train_test_split\n",
    "from sklearn.preprocessing import normalize\n",
    "from sklearn.utils import shuffle\n",
    "from skimage.color import gray2rgb\n",
    "from tqdm.notebook import trange, tqdm, tqdm_notebook\n",
    "import scipy\n",
    "from scipy import stats\n",
    "from scipy import ndimage\n",
    "import h5py\n",
    "import zipfile\n",
    "import pandas as pd\n",
    "\n",
    "import matplotlib.pyplot as plt\n",
    "import matplotlib.image as im\n",
    "import matplotlib.image as img\n",
    "from matplotlib import style\n",
    "import nibabel as nb\n",
    "from nibabel.testing import data_path\n",
    "import SimpleITK as sitk\n",
    "from ipywidgets import interact, fixed\n",
    "from IPython import display\n",
    "from tqdm.notebook import tqdm\n",
    "from pathlib import Path\n",
    "\n",
    "\n",
    "\n",
    "%matplotlib inline"
   ]
  },
  {
   "cell_type": "code",
   "execution_count": 2,
   "id": "67312e26",
   "metadata": {},
   "outputs": [],
   "source": [
    "import torch\n",
    "import torch.nn as nn\n",
    "import torch.optim as optim\n",
    "import torch.nn.functional as F\n",
    "from torch.autograd import Variable\n",
    "import torch\n",
    "import torch.nn as nn\n",
    "import torch.nn.functional as F\n",
    "import torchvision\n",
    "import torchvision.utils \n",
    "import torchvision.models as models\n",
    "from torchvision.datasets import ImageFolder\n",
    "import torchvision.datasets as datasets\n",
    "import torchvision.transforms as transforms\n",
    "from torchvision.transforms import Compose, Lambda\n",
    "from torch.utils.data import DataLoader, Dataset, ConcatDataset, random_split, SubsetRandomSampler\n",
    "\n",
    "import torch\n",
    "import torchio as tio\n",
    "from torchio.transforms import HistogramStandardization\n",
    "import torch.nn as nn\n",
    "import torch.optim as optim\n",
    "import torch.nn.functional as F\n",
    "from torch.autograd import Variable\n",
    "from torch.utils.tensorboard import SummaryWriter\n",
    "\n"
   ]
  },
  {
   "cell_type": "code",
   "execution_count": 3,
   "id": "c01c3471",
   "metadata": {},
   "outputs": [
    {
     "name": "stdout",
     "output_type": "stream",
     "text": [
      "TorchIO version: 0.18.51\n",
      "Torch version: 0.18.51\n"
     ]
    }
   ],
   "source": [
    "print('TorchIO version:', tio.__version__)\n",
    "print('Torch version:', tio.__version__)"
   ]
  },
  {
   "cell_type": "code",
   "execution_count": 4,
   "id": "36727f73",
   "metadata": {},
   "outputs": [
    {
     "data": {
      "text/plain": [
       "<torch._C.Generator at 0x16a3f38ee90>"
      ]
     },
     "execution_count": 4,
     "metadata": {},
     "output_type": "execute_result"
    }
   ],
   "source": [
    "cuda = True\n",
    "device = torch.device(\"cuda:0\" if torch.cuda.is_available() else \"cpu\")\n",
    "torch.manual_seed(42)"
   ]
  },
  {
   "cell_type": "code",
   "execution_count": 5,
   "id": "db776488",
   "metadata": {},
   "outputs": [
    {
     "data": {
      "text/plain": [
       "True"
      ]
     },
     "execution_count": 5,
     "metadata": {},
     "output_type": "execute_result"
    }
   ],
   "source": [
    "torch.cuda.is_available()"
   ]
  },
  {
   "cell_type": "markdown",
   "id": "9962deb6",
   "metadata": {},
   "source": [
    "# Visulization Randomly from Train_Dataset"
   ]
  },
  {
   "cell_type": "code",
   "execution_count": 6,
   "id": "50a6363a",
   "metadata": {},
   "outputs": [
    {
     "name": "stderr",
     "output_type": "stream",
     "text": [
      "C:\\Users\\mshabani\\AppData\\Local\\Continuum\\anaconda3\\envs\\Torch\\lib\\site-packages\\torchvision\\datasets\\mnist.py:498: UserWarning: The given NumPy array is not writeable, and PyTorch does not support non-writeable tensors. This means you can write to the underlying (supposedly non-writeable) NumPy array using the tensor. You may want to copy the array to protect its data or make it writeable before converting it to a tensor. This type of warning will be suppressed for the rest of this program. (Triggered internally at  ..\\torch\\csrc\\utils\\tensor_numpy.cpp:180.)\n",
      "  return torch.from_numpy(parsed.astype(m[2], copy=False)).view(*s)\n"
     ]
    }
   ],
   "source": [
    "# Download all Train and Valid dataset \n",
    "train_dataset = datasets.FashionMNIST(\n",
    "    root = 'data',\n",
    "    train = True,                         \n",
    "    transform = transforms.Compose([transforms.ToTensor(),transforms.Normalize((0.5), (0.5))]), \n",
    "    download = True            \n",
    ")\n",
    "                                    \n",
    "test_dataset = datasets.FashionMNIST(\n",
    "    root = 'data', \n",
    "    train = False, \n",
    "    download = True,\n",
    "    transform = transforms.Compose([transforms.ToTensor(),transforms.Normalize((0.5), (0.5))]), \n",
    ")"
   ]
  },
  {
   "cell_type": "code",
   "execution_count": 7,
   "id": "51e79426",
   "metadata": {},
   "outputs": [
    {
     "name": "stdout",
     "output_type": "stream",
     "text": [
      "torch.Size([60000, 28, 28])\n"
     ]
    }
   ],
   "source": [
    "print(train_dataset.data.size())"
   ]
  },
  {
   "cell_type": "code",
   "execution_count": 8,
   "id": "cffd25a4",
   "metadata": {},
   "outputs": [
    {
     "name": "stdout",
     "output_type": "stream",
     "text": [
      "Dataset FashionMNIST\n",
      "    Number of datapoints: 60000\n",
      "    Root location: data\n",
      "    Split: Train\n",
      "    StandardTransform\n",
      "Transform: Compose(\n",
      "               ToTensor()\n",
      "               Normalize(mean=0.5, std=0.5)\n",
      "           )\n"
     ]
    }
   ],
   "source": [
    "print(train_dataset)"
   ]
  },
  {
   "cell_type": "code",
   "execution_count": 9,
   "id": "a7c49672",
   "metadata": {},
   "outputs": [
    {
     "name": "stdout",
     "output_type": "stream",
     "text": [
      "Dataset FashionMNIST\n",
      "    Number of datapoints: 10000\n",
      "    Root location: data\n",
      "    Split: Test\n",
      "    StandardTransform\n",
      "Transform: Compose(\n",
      "               ToTensor()\n",
      "               Normalize(mean=0.5, std=0.5)\n",
      "           )\n"
     ]
    }
   ],
   "source": [
    "print(test_dataset)"
   ]
  },
  {
   "cell_type": "code",
   "execution_count": 10,
   "id": "f718fbb2",
   "metadata": {},
   "outputs": [],
   "source": [
    "#10 types of clothes in FashionMNIST\n",
    "def Class_label(label):\n",
    "    output_mapping = {\n",
    "                 0: \"T-shirt/Top\",\n",
    "                 1: \"Trouser\",\n",
    "                 2: \"Pullover\",\n",
    "                 3: \"Dress\",\n",
    "                 4: \"Coat\", \n",
    "                 5: \"Sandal\", \n",
    "                 6: \"Shirt\",\n",
    "                 7: \"Sneaker\",\n",
    "                 8: \"Bag\",\n",
    "                 9: \"Ankle Boot\"\n",
    "                 }\n",
    "    input = (label.item() if type(label) == torch.Tensor else label)\n",
    "    return output_mapping[input]"
   ]
  },
  {
   "cell_type": "code",
   "execution_count": 11,
   "id": "b00a66cb",
   "metadata": {},
   "outputs": [
    {
     "data": {
      "image/png": "[encoded data removed]",
      "text/plain": [
       "<Figure size 1080x576 with 9 Axes>"
      ]
     },
     "metadata": {
      "needs_background": "light"
     },
     "output_type": "display_data"
    }
   ],
   "source": [
    "figure = plt.figure(figsize=(15, 8))\n",
    "colums, rows = 3, 3\n",
    "for i in range(1, colums * rows + 1):\n",
    "    sample = torch.randint(len(train_dataset), size=(1,)).item()\n",
    "    img, label = train_dataset[sample]\n",
    "    figure.add_subplot(rows, colums, i)\n",
    "    plt.title('Number: %i' % label)\n",
    "    plt.axis(\"off\")\n",
    "    plt.imshow(img.squeeze())\n",
    "plt.show()"
   ]
  },
  {
   "cell_type": "code",
   "execution_count": 12,
   "id": "a03bebba",
   "metadata": {},
   "outputs": [],
   "source": [
    "# split = int(np.floor(0.2*len(train_dataset)))"
   ]
  },
  {
   "cell_type": "markdown",
   "id": "a902dd60",
   "metadata": {},
   "source": [
    "# 2D CNN Model"
   ]
  },
  {
   "cell_type": "code",
   "execution_count": 13,
   "id": "1da77a23",
   "metadata": {},
   "outputs": [],
   "source": [
    "# Asked Model\n",
    "\n",
    "class MNIST(nn.Module):\n",
    "    def __init__(self):\n",
    "        super(MNIST, self).__init__()\n",
    "        self.conv1 = nn.Conv2d(1, 32, 4, 3)\n",
    "        self.conv2 = nn.Conv2d(32, 64, 4, 3)\n",
    "        self.dropout1 = nn.Dropout(0.25)\n",
    "        self.dropout2 = nn.Dropout(0.5)\n",
    "        self.fc1 = nn.Linear(9216, 128)\n",
    "        self.fc2 = nn.Linear(128, 10)\n",
    " \n",
    "    def forward(self, x):\n",
    "        x = self.conv1(x)\n",
    "        x = F.relu(x)\n",
    "        x = self.conv2(x)\n",
    "        x = F.relu(x)\n",
    "        x = F.max_pool2d(x, 2)\n",
    "        x = self.dropout1(x)\n",
    "        x = torch.flatten(x, 1)\n",
    "        x = self.fc1(x)\n",
    "        x = F.relu(x)\n",
    "        x = self.dropout2(x)\n",
    "        x = self.fc2(x)\n",
    "        output = F.log_softmax(x, dim=1)\n",
    "        return output"
   ]
  },
  {
   "cell_type": "code",
   "execution_count": 14,
   "id": "5113f63d",
   "metadata": {},
   "outputs": [
    {
     "name": "stdout",
     "output_type": "stream",
     "text": [
      "MNIST(\n",
      "  (conv1): Conv2d(1, 32, kernel_size=(4, 4), stride=(3, 3))\n",
      "  (conv2): Conv2d(32, 64, kernel_size=(4, 4), stride=(3, 3))\n",
      "  (dropout1): Dropout(p=0.25, inplace=False)\n",
      "  (dropout2): Dropout(p=0.5, inplace=False)\n",
      "  (fc1): Linear(in_features=9216, out_features=128, bias=True)\n",
      "  (fc2): Linear(in_features=128, out_features=10, bias=True)\n",
      ")\n"
     ]
    }
   ],
   "source": [
    "model_request = MNIST()\n",
    "print(model_request)"
   ]
  },
  {
   "cell_type": "code",
   "execution_count": 15,
   "id": "e9fb05c6",
   "metadata": {},
   "outputs": [],
   "source": [
    "class CNN(nn.Module):\n",
    "    def __init__(self,h1=128):\n",
    "        # We optimize dropout rate in a convolutional neural network.\n",
    "        super(CNN, self).__init__()\n",
    "\n",
    "        self.conv1 = nn.Conv2d(in_channels=1, out_channels=16, kernel_size=5, stride=1, padding=2)\n",
    "\n",
    "        self.conv2 = nn.Conv2d(in_channels=16, out_channels=32, kernel_size=5, stride=1, padding=2)\n",
    "        self.drop1=nn.Dropout2d(p=0.5)   \n",
    "\n",
    "        self.fc1 = nn.Linear(32 * 7 * 7, h1) # in_features=32 * 7 * 7, out_features=96\n",
    "        self.drop2=nn.Dropout2d(p=0.1)\n",
    "\n",
    "        self.fc2 = nn.Linear(h1, 10)\n",
    "\n",
    "    def forward(self, x):\n",
    "        x = F.relu(F.max_pool2d(self.conv1(x),kernel_size = 2))\n",
    "\n",
    "        x = F.relu(F.max_pool2d(self.conv2(x),kernel_size = 2))\n",
    "        x = self.drop1(x)\n",
    "\n",
    "        x = x.view(x.size(0),-1)\n",
    "\n",
    "        x = F.relu(self.fc1(x))\n",
    "        x = self.drop2(x)\n",
    "\n",
    "        x = self.fc2(x)\n",
    "\n",
    "        return x\n",
    "    \n",
    "model = CNN()"
   ]
  },
  {
   "cell_type": "code",
   "execution_count": 16,
   "id": "68981105",
   "metadata": {},
   "outputs": [
    {
     "name": "stdout",
     "output_type": "stream",
     "text": [
      "CNN(\n",
      "  (conv1): Conv2d(1, 16, kernel_size=(5, 5), stride=(1, 1), padding=(2, 2))\n",
      "  (conv2): Conv2d(16, 32, kernel_size=(5, 5), stride=(1, 1), padding=(2, 2))\n",
      "  (drop1): Dropout2d(p=0.5, inplace=False)\n",
      "  (fc1): Linear(in_features=1568, out_features=128, bias=True)\n",
      "  (drop2): Dropout2d(p=0.1, inplace=False)\n",
      "  (fc2): Linear(in_features=128, out_features=10, bias=True)\n",
      ")\n"
     ]
    }
   ],
   "source": [
    "model = CNN()\n",
    "print(model)"
   ]
  },
  {
   "cell_type": "code",
   "execution_count": 17,
   "id": "fb79da9c",
   "metadata": {},
   "outputs": [],
   "source": [
    "# define Loss_Function/ Optimizer/ #epoch/ #Fold \n",
    "\n",
    "criterion = nn.CrossEntropyLoss()\n",
    "num_epochs=10\n",
    "batch_size=64\n",
    "k=5\n",
    "splits=KFold(n_splits=k,shuffle=True,random_state=42)\n",
    "foldk={}"
   ]
  },
  {
   "cell_type": "code",
   "execution_count": 18,
   "id": "dab5130c",
   "metadata": {},
   "outputs": [],
   "source": [
    "def Train_model(model,device,dataloader,losses,optimizer):\n",
    "    train_loss,train_correct=0.0,0.0\n",
    "    model.train()\n",
    "    for images, labels in dataloader:\n",
    "\n",
    "        images,labels = images.to(device),labels.to(device)\n",
    "        optimizer.zero_grad()\n",
    "        output = model(images)\n",
    "        loss = losses(output,labels)\n",
    "        loss.backward()\n",
    "        optimizer.step()\n",
    "        train_loss += loss.item() * images.size(0)\n",
    "        scores, predictions = torch.max(output.data, 1)\n",
    "        train_correct += (predictions == labels).sum().item()\n",
    "\n",
    "    return train_loss,train_correct\n",
    "  \n",
    "def Val_model(model,device,dataloader,losses):\n",
    "    valid_loss, val_correct = 0.0, 0.0\n",
    "    model.eval()\n",
    "    for images, labels in dataloader:\n",
    "\n",
    "        images,labels = images.to(device),labels.to(device)\n",
    "        output = model(images)\n",
    "        loss=losses(output,labels)\n",
    "        valid_loss+=loss.item()*images.size(0)\n",
    "        scores, predictions = torch.max(output.data,1)\n",
    "        val_correct+=(predictions == labels).sum().item()\n",
    "\n",
    "    return valid_loss,val_correct"
   ]
  },
  {
   "cell_type": "code",
   "execution_count": 19,
   "id": "859cadea",
   "metadata": {},
   "outputs": [
    {
     "name": "stdout",
     "output_type": "stream",
     "text": [
      "_____________________________________\n",
      "FMNIST_FOLD 1\n",
      "_____________________________________\n"
     ]
    },
    {
     "name": "stderr",
     "output_type": "stream",
     "text": [
      "C:\\Users\\mshabani\\AppData\\Local\\Continuum\\anaconda3\\envs\\Torch\\lib\\site-packages\\torch\\nn\\functional.py:718: UserWarning: Named tensors and all their associated APIs are an experimental feature and subject to change. Please do not use them for anything important until they are released as stable. (Triggered internally at  ..\\c10/core/TensorImpl.h:1156.)\n",
      "  return torch.max_pool2d(input, kernel_size, stride, padding, dilation, ceil_mode)\n"
     ]
    },
    {
     "name": "stdout",
     "output_type": "stream",
     "text": [
      "Epoch:1/10 Ave_Training Loss:0.548 Ave_Test Loss:0.353 Ave_Training Acc 80.18 % Ave_Test Acc 87.03 %\n",
      "Epoch:2/10 Ave_Training Loss:0.369 Ave_Test Loss:0.305 Ave_Training Acc 86.67 % Ave_Test Acc 88.96 %\n",
      "Epoch:3/10 Ave_Training Loss:0.325 Ave_Test Loss:0.276 Ave_Training Acc 88.32 % Ave_Test Acc 89.88 %\n",
      "Epoch:4/10 Ave_Training Loss:0.296 Ave_Test Loss:0.267 Ave_Training Acc 89.13 % Ave_Test Acc 90.06 %\n",
      "Epoch:5/10 Ave_Training Loss:0.276 Ave_Test Loss:0.253 Ave_Training Acc 89.95 % Ave_Test Acc 90.75 %\n",
      "Epoch:6/10 Ave_Training Loss:0.260 Ave_Test Loss:0.248 Ave_Training Acc 90.36 % Ave_Test Acc 90.66 %\n",
      "Epoch:7/10 Ave_Training Loss:0.248 Ave_Test Loss:0.237 Ave_Training Acc 90.78 % Ave_Test Acc 91.39 %\n",
      "Epoch:8/10 Ave_Training Loss:0.238 Ave_Test Loss:0.240 Ave_Training Acc 91.15 % Ave_Test Acc 91.19 %\n",
      "Epoch:9/10 Ave_Training Loss:0.230 Ave_Test Loss:0.229 Ave_Training Acc 91.49 % Ave_Test Acc 91.56 %\n",
      "Epoch:10/10 Ave_Training Loss:0.222 Ave_Test Loss:0.224 Ave_Training Acc 91.83 % Ave_Test Acc 91.78 %\n",
      "_____________________________________\n",
      "FMNIST_FOLD 2\n",
      "_____________________________________\n",
      "Epoch:1/10 Ave_Training Loss:0.535 Ave_Test Loss:0.348 Ave_Training Acc 80.88 % Ave_Test Acc 87.12 %\n",
      "Epoch:2/10 Ave_Training Loss:0.360 Ave_Test Loss:0.306 Ave_Training Acc 87.17 % Ave_Test Acc 88.80 %\n",
      "Epoch:3/10 Ave_Training Loss:0.317 Ave_Test Loss:0.278 Ave_Training Acc 88.43 % Ave_Test Acc 89.65 %\n",
      "Epoch:4/10 Ave_Training Loss:0.289 Ave_Test Loss:0.258 Ave_Training Acc 89.41 % Ave_Test Acc 90.19 %\n",
      "Epoch:5/10 Ave_Training Loss:0.271 Ave_Test Loss:0.249 Ave_Training Acc 90.04 % Ave_Test Acc 90.92 %\n",
      "Epoch:6/10 Ave_Training Loss:0.259 Ave_Test Loss:0.235 Ave_Training Acc 90.46 % Ave_Test Acc 91.45 %\n",
      "Epoch:7/10 Ave_Training Loss:0.242 Ave_Test Loss:0.232 Ave_Training Acc 91.14 % Ave_Test Acc 91.32 %\n",
      "Epoch:8/10 Ave_Training Loss:0.233 Ave_Test Loss:0.236 Ave_Training Acc 91.38 % Ave_Test Acc 91.37 %\n",
      "Epoch:9/10 Ave_Training Loss:0.225 Ave_Test Loss:0.228 Ave_Training Acc 91.69 % Ave_Test Acc 91.51 %\n",
      "Epoch:10/10 Ave_Training Loss:0.218 Ave_Test Loss:0.230 Ave_Training Acc 91.86 % Ave_Test Acc 91.72 %\n",
      "_____________________________________\n",
      "FMNIST_FOLD 3\n",
      "_____________________________________\n",
      "Epoch:1/10 Ave_Training Loss:0.557 Ave_Test Loss:0.370 Ave_Training Acc 79.96 % Ave_Test Acc 86.35 %\n",
      "Epoch:2/10 Ave_Training Loss:0.375 Ave_Test Loss:0.313 Ave_Training Acc 86.46 % Ave_Test Acc 88.39 %\n",
      "Epoch:3/10 Ave_Training Loss:0.326 Ave_Test Loss:0.285 Ave_Training Acc 88.14 % Ave_Test Acc 89.68 %\n",
      "Epoch:4/10 Ave_Training Loss:0.297 Ave_Test Loss:0.269 Ave_Training Acc 89.21 % Ave_Test Acc 90.21 %\n",
      "Epoch:5/10 Ave_Training Loss:0.279 Ave_Test Loss:0.262 Ave_Training Acc 89.85 % Ave_Test Acc 90.39 %\n",
      "Epoch:6/10 Ave_Training Loss:0.259 Ave_Test Loss:0.245 Ave_Training Acc 90.49 % Ave_Test Acc 91.02 %\n",
      "Epoch:7/10 Ave_Training Loss:0.249 Ave_Test Loss:0.245 Ave_Training Acc 90.78 % Ave_Test Acc 90.84 %\n",
      "Epoch:8/10 Ave_Training Loss:0.240 Ave_Test Loss:0.234 Ave_Training Acc 91.05 % Ave_Test Acc 91.61 %\n",
      "Epoch:9/10 Ave_Training Loss:0.229 Ave_Test Loss:0.235 Ave_Training Acc 91.34 % Ave_Test Acc 91.56 %\n",
      "Epoch:10/10 Ave_Training Loss:0.218 Ave_Test Loss:0.225 Ave_Training Acc 91.80 % Ave_Test Acc 92.17 %\n",
      "_____________________________________\n",
      "FMNIST_FOLD 4\n",
      "_____________________________________\n",
      "Epoch:1/10 Ave_Training Loss:0.551 Ave_Test Loss:0.336 Ave_Training Acc 80.22 % Ave_Test Acc 87.59 %\n",
      "Epoch:2/10 Ave_Training Loss:0.367 Ave_Test Loss:0.301 Ave_Training Acc 86.87 % Ave_Test Acc 89.11 %\n",
      "Epoch:3/10 Ave_Training Loss:0.320 Ave_Test Loss:0.264 Ave_Training Acc 88.37 % Ave_Test Acc 90.70 %\n",
      "Epoch:4/10 Ave_Training Loss:0.294 Ave_Test Loss:0.257 Ave_Training Acc 89.40 % Ave_Test Acc 90.66 %\n",
      "Epoch:5/10 Ave_Training Loss:0.276 Ave_Test Loss:0.244 Ave_Training Acc 89.90 % Ave_Test Acc 91.07 %\n",
      "Epoch:6/10 Ave_Training Loss:0.261 Ave_Test Loss:0.237 Ave_Training Acc 90.59 % Ave_Test Acc 91.34 %\n",
      "Epoch:7/10 Ave_Training Loss:0.247 Ave_Test Loss:0.227 Ave_Training Acc 90.80 % Ave_Test Acc 92.00 %\n",
      "Epoch:8/10 Ave_Training Loss:0.237 Ave_Test Loss:0.225 Ave_Training Acc 91.14 % Ave_Test Acc 92.01 %\n",
      "Epoch:9/10 Ave_Training Loss:0.228 Ave_Test Loss:0.223 Ave_Training Acc 91.49 % Ave_Test Acc 92.09 %\n",
      "Epoch:10/10 Ave_Training Loss:0.219 Ave_Test Loss:0.224 Ave_Training Acc 91.77 % Ave_Test Acc 92.00 %\n",
      "_____________________________________\n",
      "FMNIST_FOLD 5\n",
      "_____________________________________\n",
      "Epoch:1/10 Ave_Training Loss:0.538 Ave_Test Loss:0.360 Ave_Training Acc 80.64 % Ave_Test Acc 87.04 %\n",
      "Epoch:2/10 Ave_Training Loss:0.359 Ave_Test Loss:0.304 Ave_Training Acc 87.09 % Ave_Test Acc 88.74 %\n",
      "Epoch:3/10 Ave_Training Loss:0.318 Ave_Test Loss:0.275 Ave_Training Acc 88.41 % Ave_Test Acc 89.81 %\n",
      "Epoch:4/10 Ave_Training Loss:0.293 Ave_Test Loss:0.265 Ave_Training Acc 89.28 % Ave_Test Acc 90.08 %\n",
      "Epoch:5/10 Ave_Training Loss:0.275 Ave_Test Loss:0.250 Ave_Training Acc 89.91 % Ave_Test Acc 90.74 %\n",
      "Epoch:6/10 Ave_Training Loss:0.263 Ave_Test Loss:0.235 Ave_Training Acc 90.35 % Ave_Test Acc 91.18 %\n",
      "Epoch:7/10 Ave_Training Loss:0.247 Ave_Test Loss:0.234 Ave_Training Acc 90.84 % Ave_Test Acc 91.41 %\n",
      "Epoch:8/10 Ave_Training Loss:0.238 Ave_Test Loss:0.226 Ave_Training Acc 91.19 % Ave_Test Acc 91.56 %\n",
      "Epoch:9/10 Ave_Training Loss:0.231 Ave_Test Loss:0.230 Ave_Training Acc 91.44 % Ave_Test Acc 91.41 %\n",
      "Epoch:10/10 Ave_Training Loss:0.222 Ave_Test Loss:0.215 Ave_Training Acc 91.77 % Ave_Test Acc 92.11 %\n"
     ]
    }
   ],
   "source": [
    "dataset = ConcatDataset([train_dataset, test_dataset])\n",
    "\n",
    "for fold, (train_idx,val_idx) in enumerate(splits.split(np.arange(len(dataset)))):\n",
    "\n",
    "    print('_____________________________________')\n",
    "    \n",
    "    print('FMNIST_FOLD {}'.format(fold + 1))\n",
    "    \n",
    "    print('_____________________________________')      \n",
    "\n",
    "    \n",
    "    # Define data loaders for training and validation data through 5fold\n",
    "\n",
    "    train_ds = SubsetRandomSampler(train_idx)\n",
    "    test_ds = SubsetRandomSampler(val_idx)\n",
    "    train_loader = DataLoader(dataset, batch_size=batch_size, sampler=train_ds)\n",
    "    test_loader = DataLoader(dataset, batch_size=batch_size, sampler=test_ds)\n",
    "\n",
    "    #device = torch.device(\"cuda:0\" if torch.cuda.is_available() else \"cpu\")\n",
    "    cuda = True\n",
    "    model=CNN()\n",
    "    model.to(device)\n",
    "    optimizer = optim.Adam(model.parameters(), lr=0.001)\n",
    "\n",
    "    history = {'train_loss': [], \n",
    "               'test_loss': [],\n",
    "               'train_acc':[],\n",
    "               'test_acc':[]}\n",
    "\n",
    "    for epoch in range(num_epochs):\n",
    "        train_loss, train_correct=Train_model(model,device,train_loader,criterion,optimizer)\n",
    "        test_loss, test_correct=Val_model(model,device,test_loader,criterion)\n",
    "\n",
    "        train_loss = train_loss / len(train_loader.sampler)\n",
    "        train_acc = train_correct / len(train_loader.sampler) * 100\n",
    "        test_loss = test_loss / len(test_loader.sampler)\n",
    "        test_acc = test_correct / len(test_loader.sampler) * 100\n",
    "\n",
    "        print(\"Epoch:{}/{} Ave_Training Loss:{:.3f} Ave_Test Loss:{:.3f} Ave_Training Acc {:.2f} % Ave_Test Acc {:.2f} %\".format(epoch + 1,\n",
    "                                                                                                             num_epochs,\n",
    "                                                                                                             train_loss,\n",
    "                                                                                                             test_loss,\n",
    "                                                                                                             train_acc,\n",
    "                                                                                                             test_acc))\n",
    "        history['train_loss'].append(train_loss)\n",
    "        history['test_loss'].append(test_loss)\n",
    "        history['train_acc'].append(train_acc)\n",
    "        history['test_acc'].append(test_acc)\n",
    "\n",
    "    foldk['fold{}'.format(fold+1)] = history  \n",
    "\n",
    "torch.save(model,'kfold_FashionMNIST_CNN.pt') "
   ]
  },
  {
   "cell_type": "code",
   "execution_count": 20,
   "id": "b2c1c9a0",
   "metadata": {},
   "outputs": [
    {
     "name": "stdout",
     "output_type": "stream",
     "text": [
      "Performance of 5 fold cross validation\n",
      "Average Training Loss: 0.300 \t Average Test Loss: 0.261 \t Average Training Acc: 89.06 \t Average Test Acc: 90.44\n"
     ]
    }
   ],
   "source": [
    "# Define the Average \n",
    "\n",
    "test_loss_f = []\n",
    "train_loss_f = []\n",
    "test_acc_f= []\n",
    "train_acc_f = []\n",
    "k=5\n",
    "\n",
    "for f in range(1,k+1):\n",
    "\n",
    "     train_loss_f.append(np.mean(foldk['fold{}'.format(f)]['train_loss']))\n",
    "     test_loss_f.append(np.mean(foldk['fold{}'.format(f)]['test_loss']))\n",
    "\n",
    "     train_acc_f.append(np.mean(foldk['fold{}'.format(f)]['train_acc']))\n",
    "     test_acc_f.append(np.mean(foldk['fold{}'.format(f)]['test_acc']))\n",
    "\n",
    "print('Performance of {} fold cross validation'.format(k))\n",
    "print(\"Average Training Loss: {:.3f} \\t Average Test Loss: {:.3f} \\t Average Training Acc: {:.2f} \\t Average Test Acc: {:.2f}\".format(np.mean(train_loss_f),np.mean(test_loss_f),np.mean(train_acc_f),np.mean(test_acc_f)))     \n"
   ]
  },
  {
   "cell_type": "code",
   "execution_count": 21,
   "id": "76f9cdfa",
   "metadata": {},
   "outputs": [
    {
     "data": {
      "image/png": "[encoded data removed]",
      "text/plain": [
       "<Figure size 864x432 with 1 Axes>"
      ]
     },
     "metadata": {
      "needs_background": "light"
     },
     "output_type": "display_data"
    }
   ],
   "source": [
    "plt.figure(figsize=(12, 6))\n",
    "plt.plot(history['train_loss'], label='train_loss')\n",
    "plt.plot(history['test_loss'], label='test_loss')\n",
    "\n",
    "plt.legend()\n",
    "plt.xlabel('Epoch')\n",
    "plt.ylabel('Fashion_Mnist_Classification Loss')\n",
    "plt.title('Loss Plot')\n",
    "plt.show()"
   ]
  },
  {
   "cell_type": "code",
   "execution_count": 22,
   "id": "270756c0",
   "metadata": {},
   "outputs": [
    {
     "data": {
      "text/plain": [
       "Text(0.5, 1.0, 'Accuracy Plot')"
      ]
     },
     "execution_count": 22,
     "metadata": {},
     "output_type": "execute_result"
    },
    {
     "data": {
      "image/png": "[encoded data removed]",
      "text/plain": [
       "<Figure size 864x432 with 1 Axes>"
      ]
     },
     "metadata": {
      "needs_background": "light"
     },
     "output_type": "display_data"
    }
   ],
   "source": [
    "plt.figure(figsize=(12, 6))\n",
    "plt.plot(history['train_acc'], label='train_acc')\n",
    "plt.plot(history['test_acc'], label='test_acc')\n",
    "plt.legend()\n",
    "plt.xlabel('Epoch')\n",
    "plt.ylabel('Classification Accuracy')\n",
    "plt.title('Accuracy Plot')"
   ]
  },
  {
   "cell_type": "markdown",
   "id": "2c620d43",
   "metadata": {},
   "source": [
    "# Cinfusion Matrix"
   ]
  },
  {
   "cell_type": "code",
   "execution_count": 23,
   "id": "77937b94",
   "metadata": {},
   "outputs": [
    {
     "name": "stdout",
     "output_type": "stream",
     "text": [
      "              precision    recall  f1-score   support\n",
      "\n",
      "           0       0.85      0.89      0.87      1415\n",
      "           1       0.99      0.99      0.99      1407\n",
      "           2       0.89      0.88      0.88      1379\n",
      "           3       0.93      0.91      0.92      1381\n",
      "           4       0.85      0.89      0.87      1357\n",
      "           5       0.99      0.98      0.98      1448\n",
      "           6       0.79      0.75      0.77      1434\n",
      "           7       0.96      0.97      0.96      1403\n",
      "           8       0.99      0.98      0.98      1426\n",
      "           9       0.97      0.97      0.97      1350\n",
      "\n",
      "    accuracy                           0.92     14000\n",
      "   macro avg       0.92      0.92      0.92     14000\n",
      "weighted avg       0.92      0.92      0.92     14000\n",
      "\n"
     ]
    },
    {
     "data": {
      "image/png": "[encoded data removed]",
      "text/plain": [
       "<Figure size 864x504 with 2 Axes>"
      ]
     },
     "metadata": {
      "needs_background": "light"
     },
     "output_type": "display_data"
    }
   ],
   "source": [
    "# Cinfusion Matrix\n",
    "\n",
    "from sklearn.metrics import confusion_matrix\n",
    "from sklearn.metrics import classification_report\n",
    "import seaborn as sn\n",
    "import pandas as pd\n",
    "\n",
    "y_pred = []\n",
    "y_true = []\n",
    "\n",
    "# iterate over test data\n",
    "for inputs, labels in test_loader:\n",
    "        output = model(inputs.cuda()) # Feed Network\n",
    "\n",
    "        output = (torch.max(torch.exp(output), 1)[1]).data.cpu().numpy()\n",
    "        y_pred.extend(output) # Save Prediction\n",
    "        \n",
    "        labels = labels.data.cpu().numpy()\n",
    "        y_true.extend(labels) # Save Truth\n",
    "\n",
    "# constant for classes\n",
    "classes = ['T-shirt/top', 'Trouser', 'Pullover', 'Dress', 'Coat',\n",
    "        'Sandal', 'Shirt', 'Sneaker', 'Bag', 'Ankle Boot']\n",
    "\n",
    "# Build confusion matrix\n",
    "cf_matrix = confusion_matrix(y_true, y_pred)\n",
    "df_cm = pd.DataFrame(cf_matrix/np.sum(cf_matrix) *10, index = [i for i in classes],\n",
    "                     columns = [i for i in classes])\n",
    "plt.figure(figsize = (12,7))\n",
    "plt.ylabel('True label', fontsize=12, color='darkblue') # fontweight='bold'\n",
    "plt.xlabel('Predicted label\\naccuracy={:0.2f}; misclass={:0.2f}', fontsize=12, color='darkblue')\n",
    "sn.heatmap(df_cm, annot=True)\n",
    "plt.savefig('output.png')\n",
    "print(classification_report(y_true, y_pred))"
   ]
  },
  {
   "cell_type": "markdown",
   "id": "bebd2931",
   "metadata": {},
   "source": [
    "# Statistical Metrices "
   ]
  },
  {
   "cell_type": "code",
   "execution_count": 24,
   "id": "d9bb7644",
   "metadata": {},
   "outputs": [
    {
     "name": "stdout",
     "output_type": "stream",
     "text": [
      "Predict    0          1          2          3          4          5          6          7          8          9          \n",
      "Actual\n",
      "0          1259       2          19         17         2          0          115        0          1          0          \n",
      "\n",
      "1          1          1393       0          10         1          0          2          0          0          0          \n",
      "\n",
      "2          19         2          1216       7          72         0          61         0          2          0          \n",
      "\n",
      "3          34         5          11         1260       46         0          22         0          3          0          \n",
      "\n",
      "4          1          1          47         28         1211       0          69         0          0          0          \n",
      "\n",
      "5          0          0          0          0          0          1420       1          18         1          8          \n",
      "\n",
      "6          159        2          78         29         85         0          1077       0          4          0          \n",
      "\n",
      "7          0          0          0          0          0          13         0          1354       2          34         \n",
      "\n",
      "8          7          0          3          2          4          2          10         1          1397       0          \n",
      "\n",
      "9          0          0          0          0          0          5          0          36         1          1308       \n",
      "\n",
      "\n",
      "\n",
      "\n",
      "\n",
      "Overall Statistics : \n",
      "\n",
      "95% CI                                                            (0.91661,0.92554)\n",
      "ACC Macro                                                         0.98421\n",
      "ARI                                                               0.841\n",
      "AUNP                                                              0.95616\n",
      "AUNU                                                              0.9562\n",
      "Bangdiwala B                                                      0.85337\n",
      "Bennett S                                                         0.9123\n",
      "CBA                                                               0.91283\n",
      "CSI                                                               0.84221\n",
      "Chi-Squared                                                       105941.65236\n",
      "Chi-Squared DF                                                    81\n",
      "Conditional Entropy                                               0.48592\n",
      "Cramer V                                                          0.91696\n",
      "Cross Entropy                                                     3.32214\n",
      "F1 Macro                                                          0.92094\n",
      "F1 Micro                                                          0.92107\n",
      "FNR Macro                                                         0.07883\n",
      "FNR Micro                                                         0.07893\n",
      "FPR Macro                                                         0.00877\n",
      "FPR Micro                                                         0.00877\n",
      "Gwet AC1                                                          0.9123\n",
      "Hamming Loss                                                      0.07893\n",
      "Joint Entropy                                                     3.8075\n",
      "KL Divergence                                                     0.00056\n",
      "Kappa                                                             0.9123\n",
      "Kappa 95% CI                                                      (0.90734,0.91726)\n",
      "Kappa No Prevalence                                               0.84214\n",
      "Kappa Standard Error                                              0.00253\n",
      "Kappa Unbiased                                                    0.9123\n",
      "Krippendorff Alpha                                                0.9123\n",
      "Lambda A                                                          0.91197\n",
      "Lambda B                                                          0.91174\n",
      "Mutual Information                                                2.83542\n",
      "NIR                                                               0.10343\n",
      "Overall ACC                                                       0.92107\n",
      "Overall CEN                                                       0.11013\n",
      "Overall J                                                         (8.60414,0.86041)\n",
      "Overall MCC                                                       0.91234\n",
      "Overall MCEN                                                      0.17546\n",
      "Overall RACC                                                      0.10003\n",
      "Overall RACCU                                                     0.10005\n",
      "P-Value                                                           None\n",
      "PPV Macro                                                         0.92103\n",
      "PPV Micro                                                         0.92107\n",
      "Pearson C                                                         0.93983\n",
      "Phi-Squared                                                       7.56726\n",
      "RCI                                                               0.85364\n",
      "RR                                                                1400.0\n",
      "Reference Entropy                                                 3.32158\n",
      "Response Entropy                                                  3.32134\n",
      "SOA1(Landis & Koch)                                               Almost Perfect\n",
      "SOA2(Fleiss)                                                      Excellent\n",
      "SOA3(Altman)                                                      Very Good\n",
      "SOA4(Cicchetti)                                                   Excellent\n",
      "SOA5(Cramer)                                                      Very Strong\n",
      "SOA6(Matthews)                                                    Very Strong\n",
      "Scott PI                                                          0.9123\n",
      "Standard Error                                                    0.00228\n",
      "TNR Macro                                                         0.99123\n",
      "TNR Micro                                                         0.99123\n",
      "TPR Macro                                                         0.92117\n",
      "TPR Micro                                                         0.92107\n",
      "Zero-one Loss                                                     1105\n",
      "\n",
      "Class Statistics :\n",
      "\n",
      "Classes                                                           0             1             2             3             4             5             6             7             8             9             \n",
      "ACC(Accuracy)                                                     0.97307       0.99814       0.97707       0.98471       0.97457       0.99657       0.9545        0.99257       0.99693       0.994         \n",
      "AGF(Adjusted F-score)                                             0.93261       0.99462       0.93334       0.95275       0.9343        0.98979       0.85945       0.98          0.9898        0.98269       \n",
      "AGM(Adjusted geometric mean)                                      0.95743       0.99667       0.95891       0.97108       0.95891       0.99371       0.91406       0.98753       0.9938        0.98933       \n",
      "AM(Difference between automatic and manual classification)        65            -2            -5            -28           64            -8            -77           6             -15           0             \n",
      "AUC(Area under the ROC curve)                                     0.9361        0.99455       0.93464       0.95251       0.9379        0.98953       0.86438       0.98035       0.98927       0.98278       \n",
      "AUCI(AUC value interpretation)                                    Excellent     Excellent     Excellent     Excellent     Excellent     Excellent     Very Good     Excellent     Excellent     Excellent     \n",
      "AUPR(Area under the PR curve)                                     0.87021       0.99075       0.8834        0.92182       0.87231       0.98339       0.77235       0.96302       0.98487       0.96889       \n",
      "BCD(Bray-Curtis dissimilarity)                                    0.00232       7e-05         0.00018       0.001         0.00229       0.00029       0.00275       0.00021       0.00054       0.0           \n",
      "BM(Informedness or bookmaker informedness)                        0.87219       0.9891        0.86928       0.90501       0.8758        0.97907       0.72876       0.96071       0.97855       0.96557       \n",
      "CEN(Confusion entropy)                                            0.16217       0.0209        0.16401       0.12839       0.17285       0.03247       0.2783        0.06032       0.03439       0.04999       \n",
      "DOR(Diagnostic odds ratio)                                        451.5105      104317.45833  588.45259     1402.53799    491.07511     31777.57143   132.37317     6301.24972    43217.53695   9348.78912    \n",
      "DP(Discriminant power)                                            1.4636        2.76677       1.52702       1.73498       1.48371       2.48215       1.16981       2.09473       2.55577       2.18919       \n",
      "DPI(Discriminant power interpretation)                            Limited       Fair          Limited       Limited       Limited       Fair          Limited       Fair          Fair          Fair          \n",
      "ERR(Error rate)                                                   0.02693       0.00186       0.02293       0.01529       0.02543       0.00343       0.0455        0.00743       0.00307       0.006         \n",
      "F0.5(F0.5 score)                                                  0.85821       0.99118       0.88436       0.92743       0.85996       0.98502       0.78476       0.96178       0.98798       0.96889       \n",
      "F1(F1 score - harmonic mean of precision and sensitivity)         0.86978       0.99075       0.8834        0.92173       0.87185       0.98338       0.77177       0.96302       0.98484       0.96889       \n",
      "F2(F2 score)                                                      0.88165       0.99033       0.88244       0.9161        0.88407       0.98175       0.7592        0.96425       0.98173       0.96889       \n",
      "FDR(False discovery rate)                                         0.14932       0.00854       0.11499       0.06874       0.14778       0.01389       0.20634       0.03903       0.00992       0.03111       \n",
      "FN(False negative/miss/type 2 error)                              156           14            163           121           146           28            357           49            29            42            \n",
      "FNR(Miss rate or false negative rate)                             0.11025       0.00995       0.1182        0.08762       0.10759       0.01934       0.24895       0.03493       0.02034       0.03111       \n",
      "FOR(False omission rate)                                          0.01246       0.00111       0.01291       0.00957       0.01161       0.00223       0.02824       0.00389       0.0023        0.00332       \n",
      "FP(False positive/type 1 error/false alarm)                       221           12            158           93            210           20            280           55            14            42            \n",
      "FPR(Fall-out or false positive rate)                              0.01756       0.00095       0.01252       0.00737       0.01661       0.00159       0.02228       0.00437       0.00111       0.00332       \n",
      "G(G-measure geometric mean of precision and sensitivity)          0.86999       0.99075       0.8834        0.92177       0.87208       0.98338       0.77206       0.96302       0.98486       0.96889       \n",
      "GI(Gini index)                                                    0.87219       0.9891        0.86928       0.90501       0.8758        0.97907       0.72876       0.96071       0.97855       0.96557       \n",
      "GM(G-mean geometric mean of specificity and sensitivity)          0.93495       0.99454       0.93314       0.95166       0.9368        0.9895        0.85692       0.98024       0.98923       0.98269       \n",
      "IBA(Index of balanced accuracy)                                   0.79311       0.98021       0.77874       0.83298       0.79774       0.96173       0.56786       0.9315        0.95976       0.93884       \n",
      "ICSI(Individual classification success index)                     0.74043       0.98151       0.76681       0.84365       0.74463       0.96677       0.54471       0.92604       0.96974       0.93778       \n",
      "IS(Information score)                                             3.07323       3.30236       3.16749       3.2389        3.13623       3.25312       2.95391       3.2614        3.28099       3.3288        \n",
      "J(Jaccard index)                                                  0.76956       0.98168       0.79115       0.85482       0.77281       0.9673        0.62835       0.92867       0.97014       0.93966       \n",
      "LS(Lift score)                                                    8.41658       9.86526       8.98485       9.44076       8.79221       9.53422       7.74845       9.5891        9.72026       10.04774      \n",
      "MCC(Matthews correlation coefficient)                             0.85504       0.98972       0.87069       0.91332       0.85802       0.98147       0.74687       0.95889       0.98315       0.96557       \n",
      "MCCI(Matthews correlation coefficient interpretation)             Strong        Very Strong   Strong        Very Strong   Strong        Very Strong   Strong        Very Strong   Very Strong   Very Strong   \n",
      "MCEN(Modified confusion entropy)                                  0.24147       0.03708       0.25165       0.20712       0.26143       0.05622       0.39048       0.10013       0.06075       0.08313       \n",
      "MK(Markedness)                                                    0.83822       0.99035       0.8721        0.9217        0.84061       0.98388       0.76543       0.95707       0.98777       0.96557       \n",
      "N(Condition negative)                                             12585         12593         12621         12619         12643         12552         12566         12597         12574         12650         \n",
      "NLR(Negative likelihood ratio)                                    0.11222       0.00996       0.1197        0.08827       0.10941       0.01937       0.25463       0.03508       0.02036       0.03121       \n",
      "NLRI(Negative likelihood ratio interpretation)                    Fair          Good          Fair          Good          Fair          Good          Poor          Good          Good          Good          \n",
      "NPV(Negative predictive value)                                    0.98754       0.99889       0.98709       0.99043       0.98839       0.99777       0.97176       0.99611       0.9977        0.99668       \n",
      "OC(Overlap coefficient)                                           0.88975       0.99146       0.88501       0.93126       0.89241       0.98611       0.79366       0.96507       0.99008       0.96889       \n",
      "OOC(Otsuka-Ochiai coefficient)                                    0.86999       0.99075       0.8834        0.92177       0.87208       0.98338       0.77206       0.96302       0.98486       0.96889       \n",
      "OP(Optimized precision)                                           0.92356       0.99362       0.92053       0.94259       0.92607       0.98761       0.82338       0.97699       0.98721       0.97986       \n",
      "P(Condition positive or support)                                  1415          1407          1379          1381          1357          1448          1434          1403          1426          1350          \n",
      "PLR(Positive likelihood ratio)                                    50.66759      1038.97471    70.43783      123.79949     53.72732      615.46409     33.70587      221.03723     879.87768     291.82011     \n",
      "PLRI(Positive likelihood ratio interpretation)                    Good          Good          Good          Good          Good          Good          Good          Good          Good          Good          \n",
      "POP(Population)                                                   14000         14000         14000         14000         14000         14000         14000         14000         14000         14000         \n",
      "PPV(Precision or positive predictive value)                       0.85068       0.99146       0.88501       0.93126       0.85222       0.98611       0.79366       0.96097       0.99008       0.96889       \n",
      "PRE(Prevalence)                                                   0.10107       0.1005        0.0985        0.09864       0.09693       0.10343       0.10243       0.10021       0.10186       0.09643       \n",
      "Q(Yule Q - coefficient of colligation)                            0.99558       0.99998       0.99661       0.99858       0.99594       0.99994       0.985         0.99968       0.99995       0.99979       \n",
      "QI(Yule Q interpretation)                                         Strong        Strong        Strong        Strong        Strong        Strong        Strong        Strong        Strong        Strong        \n",
      "RACC(Random accuracy)                                             0.01068       0.01009       0.00967       0.00953       0.00984       0.01064       0.00993       0.01009       0.01027       0.0093        \n",
      "RACCU(Random accuracy unbiased)                                   0.01069       0.01009       0.00967       0.00953       0.00984       0.01064       0.00994       0.01009       0.01027       0.0093        \n",
      "TN(True negative/correct rejection)                               12364         12581         12463         12526         12433         12532         12286         12542         12560         12608         \n",
      "TNR(Specificity or true negative rate)                            0.98244       0.99905       0.98748       0.99263       0.98339       0.99841       0.97772       0.99563       0.99889       0.99668       \n",
      "TON(Test outcome negative)                                        12520         12595         12626         12647         12579         12560         12643         12591         12589         12650         \n",
      "TOP(Test outcome positive)                                        1480          1405          1374          1353          1421          1440          1357          1409          1411          1350          \n",
      "TP(True positive/hit)                                             1259          1393          1216          1260          1211          1420          1077          1354          1397          1308          \n",
      "TPR(Sensitivity, recall, hit rate, or true positive rate)         0.88975       0.99005       0.8818        0.91238       0.89241       0.98066       0.75105       0.96507       0.97966       0.96889       \n",
      "Y(Youden index)                                                   0.87219       0.9891        0.86928       0.90501       0.8758        0.97907       0.72876       0.96071       0.97855       0.96557       \n",
      "dInd(Distance index)                                              0.11164       0.01          0.11886       0.08793       0.10886       0.0194        0.24995       0.0352        0.02037       0.03129       \n",
      "sInd(Similarity index)                                            0.92106       0.99293       0.91595       0.93783       0.92302       0.98628       0.82326       0.97511       0.9856        0.97788       \n",
      "\n"
     ]
    },
    {
     "name": "stderr",
     "output_type": "stream",
     "text": [
      "C:\\Users\\mshabani\\AppData\\Local\\Continuum\\anaconda3\\envs\\Torch\\lib\\site-packages\\pycm\\pycm_obj.py:205: RuntimeWarning: The confusion matrix is a high dimension matrix and won't be demonstrated properly.\n",
      "If confusion matrix has too many zeros (sparse matrix) you can set `sparse` flag to True in printing functions otherwise by using save_csv method to save the confusion matrix in csv format you'll have better demonstration.\n",
      "  warn(CLASS_NUMBER_WARNING, RuntimeWarning)\n"
     ]
    }
   ],
   "source": [
    "# Overall Statistics and  Class Statistics metrices\n",
    "from pycm import *\n",
    "\n",
    "cm = ConfusionMatrix(y_true, y_pred)\n",
    "cm.table\n",
    "print(cm)"
   ]
  },
  {
   "cell_type": "markdown",
   "id": "0f4c5c7a",
   "metadata": {},
   "source": [
    "# Grad_CAM on Test dataset"
   ]
  },
  {
   "cell_type": "code",
   "execution_count": 25,
   "id": "c2767fa4",
   "metadata": {},
   "outputs": [],
   "source": [
    "#!pip install grad_cam"
   ]
  },
  {
   "cell_type": "code",
   "execution_count": 31,
   "id": "07c8f05a",
   "metadata": {},
   "outputs": [
    {
     "data": {
      "text/plain": [
       "<matplotlib.image.AxesImage at 0x16a2f5b8fd0>"
      ]
     },
     "execution_count": 31,
     "metadata": {},
     "output_type": "execute_result"
    },
    {
     "data": {
      "image/png": "[encoded data removed]",
      "text/plain": [
       "<Figure size 432x288 with 1 Axes>"
      ]
     },
     "metadata": {
      "needs_background": "light"
     },
     "output_type": "display_data"
    }
   ],
   "source": [
    "# https://pypi.org/project/grad-cam/\n",
    "\n",
    "from pytorch_grad_cam import GradCAM, ScoreCAM, GradCAMPlusPlus, AblationCAM, XGradCAM, EigenCAM\n",
    "from pytorch_grad_cam.utils.image import show_cam_on_image\n",
    "\n",
    "target_layers = [model.conv1]\n",
    "\n",
    "inputs, labels = next(iter(test_loader),20)  \n",
    "input_tensor = inputs.cuda()[0:1]\n",
    "rgb_img = input_tensor.cpu().numpy().squeeze()\n",
    "rgb_img = cv2.cvtColor(rgb_img, cv2.COLOR_GRAY2RGB)\n",
    "rgb_img[rgb_img==-1]=0\n",
    "# Note: input_tensor can be a batch tensor with several images!\n",
    "\n",
    "# Construct the CAM object once, and then re-use it on many images:\n",
    "cam = GradCAM(model=model, target_layers=target_layers)\n",
    "\n",
    "# You can also use it within a with statement, to make sure it is freed,\n",
    "# In case you need to re-create it inside an outer loop:\n",
    "# with GradCAM(model=model, target_layers=target_layers, use_cuda=args.use_cuda) as cam:\n",
    "#   ...\n",
    "\n",
    "# If target_category is None, the highest scoring category\n",
    "# will be used for every image in the batch.\n",
    "# target_category can also be an integer, or a list of different integers\n",
    "# for every image in the batch.\n",
    "target_category = labels[0:1]\n",
    "\n",
    "# You can also pass aug_smooth=True and eigen_smooth=True, to apply smoothing.\n",
    "grayscale_cam = cam(input_tensor=input_tensor, target_category=target_category)\n",
    "\n",
    "# In this example grayscale_cam has only one image in the batch:\n",
    "grayscale_cam = grayscale_cam[0, :]\n",
    "visualization = show_cam_on_image(rgb_img, grayscale_cam, use_rgb=True)\n",
    "plt.imshow(visualization)"
   ]
  },
  {
   "cell_type": "code",
   "execution_count": null,
   "id": "0de40f90",
   "metadata": {},
   "outputs": [],
   "source": []
  },
  {
   "cell_type": "code",
   "execution_count": null,
   "id": "c2e93ba6",
   "metadata": {},
   "outputs": [],
   "source": []
  },
  {
   "cell_type": "code",
   "execution_count": null,
   "id": "b906f01e",
   "metadata": {},
   "outputs": [],
   "source": []
  }
 ],
 "metadata": {
  "kernelspec": {
   "display_name": "Python 3 (ipykernel)",
   "language": "python",
   "name": "python3"
  },
  "language_info": {
   "codemirror_mode": {
    "name": "ipython",
    "version": 3
   },
   "file_extension": ".py",
   "mimetype": "text/x-python",
   "name": "python",
   "nbconvert_exporter": "python",
   "pygments_lexer": "ipython3",
   "version": "3.8.11"
  }
 },
 "nbformat": 4,
 "nbformat_minor": 5
}
